{
 "cells": [
  {
   "cell_type": "code",
   "execution_count": 1,
   "id": "14c5b5f1",
   "metadata": {},
   "outputs": [],
   "source": [
    "from tensorflow.keras.models import Sequential\n",
    "from tensorflow.keras.layers import Dense\n",
    "from tensorflow.keras.layers import Convolution2D\n",
    "from tensorflow.keras.layers import MaxPooling2D\n",
    "from tensorflow.keras.layers import Flatten\n",
    "from tensorflow.keras.preprocessing.image import ImageDataGenerator"
   ]
  },
  {
   "cell_type": "code",
   "execution_count": 2,
   "id": "07b8e26a",
   "metadata": {},
   "outputs": [],
   "source": [
    "train_datagen=ImageDataGenerator(rescale=1./255,shear_range=0.2,zoom_range=0.2)\n",
    "test_datagen=ImageDataGenerator(rescale=1./255)"
   ]
  },
  {
   "cell_type": "code",
   "execution_count": 3,
   "id": "c0b3098b",
   "metadata": {},
   "outputs": [
    {
     "name": "stdout",
     "output_type": "stream",
     "text": [
      "Found 2122 images belonging to 5 classes.\n",
      "Found 2194 images belonging to 5 classes.\n"
     ]
    }
   ],
   "source": [
    "x_train=train_datagen.flow_from_directory(r'E:\\Project\\flowers\\trainset',target_size=(64,64),batch_size=32,class_mode='categorical')\n",
    "x_test=train_datagen.flow_from_directory(r'E:\\Project\\flowers\\testset',target_size=(64,64),batch_size=32,class_mode='categorical')"
   ]
  },
  {
   "cell_type": "code",
   "execution_count": 4,
   "id": "8e0df126",
   "metadata": {},
   "outputs": [
    {
     "data": {
      "text/plain": [
       "{'daisy': 0, 'dandelion': 1, 'rose': 2, 'sunflower': 3, 'tulip': 4}"
      ]
     },
     "execution_count": 4,
     "metadata": {},
     "output_type": "execute_result"
    }
   ],
   "source": [
    "x_train.class_indices"
   ]
  },
  {
   "cell_type": "code",
   "execution_count": 5,
   "id": "405a66c3",
   "metadata": {},
   "outputs": [],
   "source": [
    "model=Sequential()"
   ]
  },
  {
   "cell_type": "code",
   "execution_count": 6,
   "id": "09ff859e",
   "metadata": {},
   "outputs": [],
   "source": [
    "model.add(Convolution2D((32),(3,3),input_shape=(64,64,3),activation='relu'))"
   ]
  },
  {
   "cell_type": "code",
   "execution_count": 7,
   "id": "25ea7afc",
   "metadata": {},
   "outputs": [],
   "source": [
    "model.add(MaxPooling2D(pool_size=(2,2)))"
   ]
  },
  {
   "cell_type": "code",
   "execution_count": 8,
   "id": "098e4482",
   "metadata": {},
   "outputs": [],
   "source": [
    "model.add(Flatten())"
   ]
  },
  {
   "cell_type": "code",
   "execution_count": 9,
   "id": "b6ca8a87",
   "metadata": {},
   "outputs": [],
   "source": [
    "model.add(Dense(units=128,kernel_initializer='random_uniform',activation='relu'))"
   ]
  },
  {
   "cell_type": "code",
   "execution_count": 10,
   "id": "bc850a8c",
   "metadata": {},
   "outputs": [],
   "source": [
    "model.add(Dense(units=128,kernel_initializer='random_uniform',activation='relu'))"
   ]
  },
  {
   "cell_type": "code",
   "execution_count": 11,
   "id": "256f3b7f",
   "metadata": {},
   "outputs": [],
   "source": [
    "model.add(Dense(units=5,kernel_initializer='random_uniform',activation='softmax'))"
   ]
  },
  {
   "cell_type": "code",
   "execution_count": 12,
   "id": "82655426",
   "metadata": {},
   "outputs": [],
   "source": [
    "model.compile(loss='categorical_crossentropy',optimizer='adam',metrics=['accuracy'])"
   ]
  },
  {
   "cell_type": "code",
   "execution_count": 13,
   "id": "d7d6ab0b",
   "metadata": {},
   "outputs": [
    {
     "name": "stderr",
     "output_type": "stream",
     "text": [
      "C:\\Users\\Master\\AppData\\Local\\Temp\\ipykernel_6104\\1710693504.py:1: UserWarning: `Model.fit_generator` is deprecated and will be removed in a future version. Please use `Model.fit`, which supports generators.\n",
      "  model.fit_generator(x_train,steps_per_epoch=46,epochs=25,validation_data=x_test,validation_steps=20)\n"
     ]
    },
    {
     "name": "stdout",
     "output_type": "stream",
     "text": [
      "Epoch 1/25\n",
      "46/46 [==============================] - 49s 1s/step - loss: 1.3896 - accuracy: 0.3709 - val_loss: 1.3430 - val_accuracy: 0.3953\n",
      "Epoch 2/25\n",
      "46/46 [==============================] - 63s 1s/step - loss: 1.1737 - accuracy: 0.5090 - val_loss: 1.2484 - val_accuracy: 0.4203\n",
      "Epoch 3/25\n",
      "46/46 [==============================] - 22s 479ms/step - loss: 1.1003 - accuracy: 0.5345 - val_loss: 1.2396 - val_accuracy: 0.5016\n",
      "Epoch 4/25\n",
      "46/46 [==============================] - 15s 320ms/step - loss: 1.0137 - accuracy: 0.6007 - val_loss: 1.2779 - val_accuracy: 0.4547\n",
      "Epoch 5/25\n",
      "46/46 [==============================] - 15s 329ms/step - loss: 0.9743 - accuracy: 0.6053 - val_loss: 1.3107 - val_accuracy: 0.4953\n",
      "Epoch 6/25\n",
      "46/46 [==============================] - 11s 247ms/step - loss: 0.9080 - accuracy: 0.6481 - val_loss: 1.1520 - val_accuracy: 0.5562\n",
      "Epoch 7/25\n",
      "46/46 [==============================] - 12s 254ms/step - loss: 0.8784 - accuracy: 0.6531 - val_loss: 1.2016 - val_accuracy: 0.5109\n",
      "Epoch 8/25\n",
      "46/46 [==============================] - 13s 277ms/step - loss: 0.7879 - accuracy: 0.7055 - val_loss: 1.0782 - val_accuracy: 0.5703\n",
      "Epoch 9/25\n",
      "46/46 [==============================] - 15s 322ms/step - loss: 0.7456 - accuracy: 0.7186 - val_loss: 1.1269 - val_accuracy: 0.5656\n",
      "Epoch 10/25\n",
      "46/46 [==============================] - 13s 274ms/step - loss: 0.7190 - accuracy: 0.7366 - val_loss: 1.2023 - val_accuracy: 0.5672\n",
      "Epoch 11/25\n",
      "46/46 [==============================] - 11s 243ms/step - loss: 0.6537 - accuracy: 0.7497 - val_loss: 1.2052 - val_accuracy: 0.5594\n",
      "Epoch 12/25\n",
      "46/46 [==============================] - 12s 254ms/step - loss: 0.6320 - accuracy: 0.7697 - val_loss: 1.3490 - val_accuracy: 0.5000\n",
      "Epoch 13/25\n",
      "46/46 [==============================] - 11s 231ms/step - loss: 0.5814 - accuracy: 0.7828 - val_loss: 1.1506 - val_accuracy: 0.5734\n",
      "Epoch 14/25\n",
      "46/46 [==============================] - 11s 231ms/step - loss: 0.5366 - accuracy: 0.8000 - val_loss: 1.2424 - val_accuracy: 0.5469\n",
      "Epoch 15/25\n",
      "46/46 [==============================] - 10s 214ms/step - loss: 0.4813 - accuracy: 0.8200 - val_loss: 1.2289 - val_accuracy: 0.5625\n",
      "Epoch 16/25\n",
      "46/46 [==============================] - 9s 206ms/step - loss: 0.4561 - accuracy: 0.8379 - val_loss: 1.3615 - val_accuracy: 0.5891\n",
      "Epoch 17/25\n",
      "46/46 [==============================] - 10s 227ms/step - loss: 0.4365 - accuracy: 0.8372 - val_loss: 1.2612 - val_accuracy: 0.5859\n",
      "Epoch 18/25\n",
      "46/46 [==============================] - 10s 223ms/step - loss: 0.3425 - accuracy: 0.8811 - val_loss: 1.4318 - val_accuracy: 0.5984\n",
      "Epoch 19/25\n",
      "46/46 [==============================] - 11s 241ms/step - loss: 0.3460 - accuracy: 0.8798 - val_loss: 1.4437 - val_accuracy: 0.5625\n",
      "Epoch 20/25\n",
      "46/46 [==============================] - 9s 206ms/step - loss: 0.3159 - accuracy: 0.8899 - val_loss: 1.3601 - val_accuracy: 0.5969\n",
      "Epoch 21/25\n",
      "46/46 [==============================] - 10s 209ms/step - loss: 0.3116 - accuracy: 0.8869 - val_loss: 1.2681 - val_accuracy: 0.6313\n",
      "Epoch 22/25\n",
      "46/46 [==============================] - 10s 213ms/step - loss: 0.2714 - accuracy: 0.9103 - val_loss: 1.5012 - val_accuracy: 0.6141\n",
      "Epoch 23/25\n",
      "46/46 [==============================] - 10s 208ms/step - loss: 0.2731 - accuracy: 0.9152 - val_loss: 1.4529 - val_accuracy: 0.5859\n",
      "Epoch 24/25\n",
      "46/46 [==============================] - 10s 215ms/step - loss: 0.2107 - accuracy: 0.9248 - val_loss: 1.9765 - val_accuracy: 0.5188\n",
      "Epoch 25/25\n",
      "46/46 [==============================] - 10s 213ms/step - loss: 0.2315 - accuracy: 0.9212 - val_loss: 1.6735 - val_accuracy: 0.6078\n"
     ]
    },
    {
     "data": {
      "text/plain": [
       "<keras.callbacks.History at 0x17125dbb400>"
      ]
     },
     "execution_count": 13,
     "metadata": {},
     "output_type": "execute_result"
    }
   ],
   "source": [
    "model.fit_generator(x_train,steps_per_epoch=46,epochs=25,validation_data=x_test,validation_steps=20)"
   ]
  },
  {
   "cell_type": "code",
   "execution_count": 27,
   "id": "981121f4",
   "metadata": {},
   "outputs": [],
   "source": [
    "model.save('flower1.h5')"
   ]
  }
 ],
 "metadata": {
  "kernelspec": {
   "display_name": "Python 3 (ipykernel)",
   "language": "python",
   "name": "python3"
  },
  "language_info": {
   "codemirror_mode": {
    "name": "ipython",
    "version": 3
   },
   "file_extension": ".py",
   "mimetype": "text/x-python",
   "name": "python",
   "nbconvert_exporter": "python",
   "pygments_lexer": "ipython3",
   "version": "3.9.12"
  }
 },
 "nbformat": 4,
 "nbformat_minor": 5
}
